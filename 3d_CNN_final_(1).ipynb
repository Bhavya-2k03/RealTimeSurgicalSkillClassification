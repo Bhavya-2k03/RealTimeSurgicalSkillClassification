{
  "nbformat": 4,
  "nbformat_minor": 0,
  "metadata": {
    "colab": {
      "provenance": [],
      "collapsed_sections": [],
      "machine_shape": "hm",
      "include_colab_link": true
    },
    "kernelspec": {
      "name": "python3",
      "display_name": "Python 3"
    },
    "language_info": {
      "name": "python"
    },
    "accelerator": "GPU",
    "gpuClass": "standard"
  },
  "cells": [
    {
      "cell_type": "markdown",
      "metadata": {
        "id": "view-in-github",
        "colab_type": "text"
      },
      "source": [
        "<a href=\"https://colab.research.google.com/github/Bhavya-2k03/RealTimeSurgicalSkillClassification/blob/main/3d_CNN_final_(1).ipynb\" target=\"_parent\"><img src=\"https://colab.research.google.com/assets/colab-badge.svg\" alt=\"Open In Colab\"/></a>"
      ]
    },
    {
      "cell_type": "code",
      "source": [
        "import random #To pick random frames from the video\n",
        "import numpy as np#To pad frames which are different in shape from others \n",
        "import cv2#To capture frames from video & for basic image operation\n",
        "import os#To do file related operations\n",
        "import tensorflow as tf#To bulid and interact with our model\n",
        "import matplotlib.pyplot as plt #To to visualize results \n",
        "import seaborn as sn #To plot confusion Matrix\n",
        "from tensorflow.keras.models import Model #To make a custom model \n",
        "from tensorflow.keras.layers import Conv3D,Dense,Flatten,Average,Input#To Build architecture of model\n",
        "from keras.utils import to_categorical,plot_model #to_categorical for converting integral labels to one hot encoded vector,plot_model to visualize our model\n",
        "from keras.models import load_model# to save model(including weights)\n",
        "from sklearn.metrics import roc_auc_score,roc_curve, auc,precision_score,f1_score,accuracy_score,recall_score #To Judge model performance on various classification metrics \n",
        "from itertools import cycle#To handle iterators"
      ],
      "metadata": {
        "id": "IltdeM9IOLWF"
      },
      "execution_count": null,
      "outputs": []
    },
    {
      "cell_type": "code",
      "source": [
        "!gdown --id 1wPY8-7X-Na8uvx2xl6djEPuWSUBzs582 #Knot Tying Dataset\n",
        "!gdown --id 1WNv_QmjHmfE_6FgM5IF0nf7IYN8fWGaL #Needle passing Dataset\n",
        "!gdown --id 1ISAcB536gTKuvqgwr7us4_oO6klNKlIl #Suturing Dataset"
      ],
      "metadata": {
        "id": "ZIcY2Joff4Bj"
      },
      "execution_count": null,
      "outputs": []
    },
    {
      "cell_type": "code",
      "source": [
        "!gdown --id 1NmoNgShgFu7qferhVDY8oMu3gNrIR9oZ #Knot tying weights \n",
        "!gdown --id 1--tlGD_qXqqntwnet0rmIwB1nTwtdX8R #Needle passing weights\n",
        "!gdown --id 1pbb0Gv0nQbGj9tGcOPEvoUuz_ATMEMVZ #Suturing weights"
      ],
      "metadata": {
        "id": "NHk3ZplZDG6L"
      },
      "execution_count": null,
      "outputs": []
    },
    {
      "cell_type": "code",
      "source": [
        "!unzip Knot_Tying.zip #unzipping Knot_Tying dataset file\n",
        "!unzip Suturing.zip #unzipping Suturing dataset file\n",
        "!unzip Needle_Passing.zip #unzipping Needle_Passing dataset file"
      ],
      "metadata": {
        "id": "maVxkY4HSg3J"
      },
      "execution_count": null,
      "outputs": []
    },
    {
      "cell_type": "code",
      "source": [
        "surgery_type=''\n",
        "task=int(input(\"Press 1 for knot tying, Press 2 for suturing, Press 3 for Needle Passing: \\n\"))\n",
        "if task ==1:\n",
        "    surgery_type='Knot_Tying'\n",
        "    model=load_model('/content/knot_tying.h5') #loading pretrained model\n",
        "elif task ==2:\n",
        "    surgery_type='Suturing'\n",
        "    model=load_model('/content/suturing.h5') #loading pretrained model\n",
        "elif task ==3:\n",
        "    surgery_type='Needle_Passing'\n",
        "    model=load_model('/content/needle_passing.h5') #loading pretrained model"
      ],
      "metadata": {
        "colab": {
          "base_uri": "https://localhost:8080/"
        },
        "id": "Lyqrueg8d4qG",
        "outputId": "f1399423-c628-4dd3-f171-8001156c97e3"
      },
      "execution_count": null,
      "outputs": [
        {
          "name": "stdout",
          "output_type": "stream",
          "text": [
            "Press 1 for knot tying, Press 2 for suturing, Press 3 for Needle Passing: \n",
            "1\n"
          ]
        }
      ]
    },
    {
      "cell_type": "code",
      "source": [
        "surgery_name=[] #initialising list named surgery_name\n",
        "expertise_level=[]\n",
        "\n",
        "def getMetaDataForSurgeries(surgery_type): #getting skill level of surgeons for a different surgical videos (for training)\n",
        "\tsurgeries_metadata = {} \n",
        "\tfile = open(surgery_type+'/'+'meta_file_'+surgery_type+'.txt','r') \n",
        "\tfor line in file: \n",
        "\t\tline = line.strip() \n",
        "\t\tif len(line)==0: \n",
        "\t\t\tbreak\n",
        "\t\tb = line.split()\n",
        "\t\tsurgery_name.append(b[0]) #adding name of surgery in surgery name list\n",
        "\t\texpertise_level.append(b[1]) #adding corresponding skill level of the surgeon "
      ],
      "metadata": {
        "id": "Kd3zrqCKGx_Y"
      },
      "execution_count": null,
      "outputs": []
    },
    {
      "cell_type": "code",
      "source": [
        "getMetaDataForSurgeries(surgery_type) #calling the function"
      ],
      "metadata": {
        "id": "kAdvuikQHJ6e"
      },
      "execution_count": null,
      "outputs": []
    },
    {
      "cell_type": "code",
      "source": [
        "# from sklearn import preprocessing\n",
        "# le=preprocessing.LabelEncoder()\n",
        "# integral_level2=le.fit_transform(expertise_level)"
      ],
      "metadata": {
        "id": "s5Cb6JB9Atw4"
      },
      "execution_count": null,
      "outputs": []
    },
    {
      "cell_type": "code",
      "source": [
        "integral_level=[]\n",
        "for i in expertise_level:  #converting string labels to integral labels  \n",
        "    if i==\"N\":\n",
        "        integral_level.append(0)\n",
        "    elif i==\"I\":\n",
        "        integral_level.append(1)\n",
        "    elif i==\"E\":\n",
        "        integral_level.append(2)\n",
        "        \n",
        "encoded=to_categorical(integral_level) #converting integral labels to one hot encoded vector"
      ],
      "metadata": {
        "id": "r6A7ihD0H048"
      },
      "execution_count": null,
      "outputs": []
    },
    {
      "cell_type": "code",
      "source": [
        "inputAlist=[]\n",
        "inputBlist=[]\n",
        "inputClist=[]\n",
        "inputDlist=[]"
      ],
      "metadata": {
        "id": "fSnfg78IWxVm"
      },
      "execution_count": null,
      "outputs": []
    },
    {
      "cell_type": "code",
      "source": [
        "print(len(surgery_name))"
      ],
      "metadata": {
        "colab": {
          "base_uri": "https://localhost:8080/"
        },
        "id": "5zGiyR-UF-hP",
        "outputId": "225243a3-6a68-42b9-a176-fd4842a5aafe"
      },
      "execution_count": null,
      "outputs": [
        {
          "output_type": "stream",
          "name": "stdout",
          "text": [
            "36\n"
          ]
        }
      ]
    },
    {
      "cell_type": "code",
      "source": [
        "for i in surgery_name: # randomly choosing 90 frames from the video and appending them in a list\n",
        "    vid=cv2.VideoCapture(f\"/content/{surgery_type}/video/{i}_capture1.avi\")\n",
        "    total_length=int(vid.get(cv2.CAP_PROP_FRAME_COUNT)) #total frames in the video\n",
        "    \n",
        "    random_number_A=np.random.randint(0,(total_length-90))\n",
        "    numbers_A=[i for i in range(random_number_A,random_number_A+90)] #generating 90 continuous random numbers\n",
        "\n",
        "    count=0\n",
        "    reg,frame=vid.read() #starting to read the video\n",
        "\n",
        "    while True:\n",
        "        if count in numbers_A: \n",
        "                inputAlist.append(frame) #appending the frames in the list \"inputAlist\"\n",
        "\n",
        "        elif count>total_length :\n",
        "            break\n",
        "\n",
        "        count=count+1"
      ],
      "metadata": {
        "id": "P1qDpOtsS0uB"
      },
      "execution_count": null,
      "outputs": []
    },
    {
      "cell_type": "code",
      "source": [
        "pad_list=[]  #finding frames whose shapes are different from previous frames\n",
        "for i in range(0,len(inputAlist)):\n",
        "    if i!=0:\n",
        "        if inputAlist[i].shape != inputAlist[i-1].shape:\n",
        "            pad_list.append(i) #appending those frames to a list"
      ],
      "metadata": {
        "id": "7J-3SALWxdK_"
      },
      "execution_count": null,
      "outputs": []
    },
    {
      "cell_type": "code",
      "source": [
        "def pad(input,x,y): #function to pad the frames ( i.e to make shapes of all frames equal)\n",
        "    for i in range(x,y):\n",
        "        img = input[i]\n",
        "        old_image_height, old_image_width, channels = img.shape\n",
        "        new_image_width = 640 #desired width\n",
        "        new_image_height = 480 #desired height\n",
        "        color = (255,0,0) #color to pad with (here, its blue)\n",
        "        result = np.full((new_image_height,new_image_width, channels), color, dtype=np.uint8)\n",
        "        x_center = (new_image_width - old_image_width) // 2\n",
        "        y_center = (new_image_height - old_image_height) // 2\n",
        "        result[y_center:y_center+old_image_height,x_center:x_center+old_image_width] = img\n",
        "        input[i]=result"
      ],
      "metadata": {
        "id": "PdS03-Wu0GvH"
      },
      "execution_count": null,
      "outputs": []
    },
    {
      "cell_type": "code",
      "source": [
        "pad(inputAlist,pad_list[0],pad_list[1]) #calling the function to pad the frames\n",
        "if surgery_type=='Needle_Passing':\n",
        "    pad(inputAlist,pad_list[2],pad_list[3]) #calling the function to pad the frames"
      ],
      "metadata": {
        "id": "OT5KPQ42X-U7"
      },
      "execution_count": null,
      "outputs": []
    },
    {
      "cell_type": "code",
      "source": [
        "npinput_A=np.array(inputAlist) #converting list containing frames to array (so that we can reshape it according to our model)"
      ],
      "metadata": {
        "id": "vk9RUm_Gbrb1"
      },
      "execution_count": null,
      "outputs": []
    },
    {
      "cell_type": "code",
      "source": [
        "if task ==1: #reshaping the array\n",
        "    npinput_reshapedA=npinput_A.reshape(36,90,480,640,3)\n",
        "elif task ==2:\n",
        "    npinput_reshapedA=npinput_A.reshape(39,90,480,640,3)\n",
        "elif task ==3:\n",
        "    npinput_reshapedA=npinput_A.reshape(28,90,480,640,3)"
      ],
      "metadata": {
        "id": "9BeaSR54cqRv"
      },
      "execution_count": null,
      "outputs": []
    },
    {
      "cell_type": "code",
      "source": [
        "#Building the model\n",
        "inputA=Input(shape=(90,480,640,3))  #defining the input layer \n",
        "w=Conv3D(32,(3,3,3), activation='relu')(inputA) #using Conv3d so that model temporal information can be extracted \n",
        "w=Flatten()(w) #flatting the feature map obtained from Convolution layers\n",
        "output=Dense(3,activation=\"softmax\")(w) #finally a dense layer with softmax activation to give final prediction \n",
        "model=Model(inputs=inputA, outputs=output) #defining inputs and outputs of model\n",
        "model.summary() #printing summary of the model"
      ],
      "metadata": {
        "id": "g8SyKzlMETEu"
      },
      "execution_count": null,
      "outputs": []
    },
    {
      "cell_type": "code",
      "source": [
        "plot_model(model) #visualizing the model"
      ],
      "metadata": {
        "colab": {
          "base_uri": "https://localhost:8080/",
          "height": 369
        },
        "id": "xouF4imWbDye",
        "outputId": "67bc690a-759c-420b-d59c-9ef6b36d3345"
      },
      "execution_count": null,
      "outputs": [
        {
          "output_type": "execute_result",
          "data": {
            "image/png": "[encoded data removed]",
            "text/plain": [
              "<IPython.core.display.Image object>"
            ]
          },
          "metadata": {},
          "execution_count": 16
        }
      ]
    },
    {
      "cell_type": "code",
      "source": [
        "model.compile(optimizer = 'adam',\n",
        "              loss=tf.keras.losses.CategoricalCrossentropy(from_logits = False),\n",
        "              metrics=['accuracy']) #compiling the model, adam cause most of the time it performs well in multiclass classification (learning rate is by deafult kept as 0.01)"
      ],
      "metadata": {
        "id": "DGUM63UUGa93"
      },
      "execution_count": null,
      "outputs": []
    },
    {
      "cell_type": "code",
      "source": [
        "model.fit(npinput_reshapedA[:int(len(encoded)*0.7)],encoded[:int(len(encoded)*0.7)],batch_size=1,epochs=10,verbose=1) #training on 70 % of the videos"
      ],
      "metadata": {
        "id": "Iwn2LzlGJ_p3",
        "colab": {
          "base_uri": "https://localhost:8080/"
        },
        "outputId": "09d4feb4-9b18-41ac-f1f9-710e81500cdd"
      },
      "execution_count": null,
      "outputs": [
        {
          "output_type": "stream",
          "name": "stdout",
          "text": [
            "Epoch 1/10\n",
            "19/19 [==============================] - 8s 415ms/step - loss: 2485.0383 - accuracy: 0.6842\n",
            "Epoch 2/10\n",
            "19/19 [==============================] - 8s 419ms/step - loss: 0.0000e+00 - accuracy: 1.0000\n",
            "Epoch 3/10\n",
            "19/19 [==============================] - 8s 417ms/step - loss: 0.0000e+00 - accuracy: 1.0000\n",
            "Epoch 4/10\n",
            "19/19 [==============================] - 8s 414ms/step - loss: 0.0000e+00 - accuracy: 1.0000\n",
            "Epoch 5/10\n",
            "19/19 [==============================] - 8s 410ms/step - loss: 0.0000e+00 - accuracy: 1.0000\n",
            "Epoch 6/10\n",
            "19/19 [==============================] - 8s 407ms/step - loss: 0.0000e+00 - accuracy: 1.0000\n",
            "Epoch 7/10\n",
            "19/19 [==============================] - 8s 405ms/step - loss: 0.0000e+00 - accuracy: 1.0000\n",
            "Epoch 8/10\n",
            "19/19 [==============================] - 8s 405ms/step - loss: 0.0000e+00 - accuracy: 1.0000\n",
            "Epoch 9/10\n",
            "19/19 [==============================] - 8s 405ms/step - loss: 0.0000e+00 - accuracy: 1.0000\n",
            "Epoch 10/10\n",
            "19/19 [==============================] - 8s 406ms/step - loss: 0.0000e+00 - accuracy: 1.0000\n"
          ]
        },
        {
          "output_type": "execute_result",
          "data": {
            "text/plain": [
              "<keras.callbacks.History at 0x7fd87dd76d50>"
            ]
          },
          "metadata": {},
          "execution_count": 62
        }
      ]
    },
    {
      "cell_type": "code",
      "source": [
        "p=model.predict(npinput_reshapedA,verbose=1,batch_size=1) #Getting prediction from the model"
      ],
      "metadata": {
        "id": "u0GrbXp8NDfT",
        "colab": {
          "base_uri": "https://localhost:8080/"
        },
        "outputId": "3ec011aa-e81d-434a-c431-ab1497294e0d"
      },
      "execution_count": null,
      "outputs": [
        {
          "output_type": "stream",
          "name": "stdout",
          "text": [
            "36/36 [==============================] - 11s 91ms/step\n"
          ]
        }
      ]
    },
    {
      "cell_type": "code",
      "source": [
        "predicted_index=[]\n",
        "predicted_skill=[]\n",
        "for i in p:\n",
        "    temp=np.argmax(i) #returns the index with max value\n",
        "    predicted_index.append(temp)\n",
        "    if temp == 0:\n",
        "        predicted_skill.append(\"N\")\n",
        "    elif temp ==1:\n",
        "        predicted_skill.append(\"I\")\n",
        "    elif temp ==2:\n",
        "        predicted_skill.append(\"E\")\n",
        "for x, y in zip(predicted_skill,expertise_level):\n",
        "    print(\"Predicted skill level: \",x)\n",
        "    print(\"True skill level: \",y)\n",
        "    print(\" \")\n"
      ],
      "metadata": {
        "colab": {
          "base_uri": "https://localhost:8080/"
        },
        "id": "4aDBn5zsHzNZ",
        "outputId": "6b887b68-f5af-4ff7-d1b6-39c82b159b97"
      },
      "execution_count": null,
      "outputs": [
        {
          "output_type": "stream",
          "name": "stdout",
          "text": [
            "Predicted skill level:  N\n",
            "True skill level:  N\n",
            " \n",
            "Predicted skill level:  N\n",
            "True skill level:  N\n",
            " \n",
            "Predicted skill level:  N\n",
            "True skill level:  N\n",
            " \n",
            "Predicted skill level:  N\n",
            "True skill level:  N\n",
            " \n",
            "Predicted skill level:  I\n",
            "True skill level:  I\n",
            " \n",
            "Predicted skill level:  I\n",
            "True skill level:  I\n",
            " \n",
            "Predicted skill level:  I\n",
            "True skill level:  I\n",
            " \n",
            "Predicted skill level:  I\n",
            "True skill level:  I\n",
            " \n",
            "Predicted skill level:  I\n",
            "True skill level:  I\n",
            " \n",
            "Predicted skill level:  E\n",
            "True skill level:  E\n",
            " \n",
            "Predicted skill level:  E\n",
            "True skill level:  E\n",
            " \n",
            "Predicted skill level:  E\n",
            "True skill level:  E\n",
            " \n",
            "Predicted skill level:  E\n",
            "True skill level:  E\n",
            " \n",
            "Predicted skill level:  E\n",
            "True skill level:  E\n",
            " \n",
            "Predicted skill level:  E\n",
            "True skill level:  E\n",
            " \n",
            "Predicted skill level:  E\n",
            "True skill level:  E\n",
            " \n",
            "Predicted skill level:  E\n",
            "True skill level:  E\n",
            " \n",
            "Predicted skill level:  E\n",
            "True skill level:  E\n",
            " \n",
            "Predicted skill level:  E\n",
            "True skill level:  E\n",
            " \n",
            "Predicted skill level:  I\n",
            "True skill level:  I\n",
            " \n",
            "Predicted skill level:  I\n",
            "True skill level:  I\n",
            " \n",
            "Predicted skill level:  I\n",
            "True skill level:  I\n",
            " \n",
            "Predicted skill level:  I\n",
            "True skill level:  I\n",
            " \n",
            "Predicted skill level:  I\n",
            "True skill level:  I\n",
            " \n",
            "Predicted skill level:  N\n",
            "True skill level:  N\n",
            " \n",
            "Predicted skill level:  N\n",
            "True skill level:  N\n",
            " \n",
            "Predicted skill level:  N\n",
            "True skill level:  N\n",
            " \n",
            "Predicted skill level:  N\n",
            "True skill level:  N\n",
            " \n",
            "Predicted skill level:  N\n",
            "True skill level:  N\n",
            " \n",
            "Predicted skill level:  I\n",
            "True skill level:  N\n",
            " \n",
            "Predicted skill level:  N\n",
            "True skill level:  N\n",
            " \n",
            "Predicted skill level:  N\n",
            "True skill level:  N\n",
            " \n",
            "Predicted skill level:  N\n",
            "True skill level:  N\n",
            " \n",
            "Predicted skill level:  N\n",
            "True skill level:  N\n",
            " \n",
            "Predicted skill level:  N\n",
            "True skill level:  N\n",
            " \n",
            "Predicted skill level:  N\n",
            "True skill level:  N\n",
            " \n"
          ]
        }
      ]
    },
    {
      "cell_type": "code",
      "source": [
        "print(\"Accuracy: \",accuracy_score(expertise_level,predicted_skill)) # gives accuracy\n",
        "print(\"Precision: \",precision_score(expertise_level,predicted_skill, average='weighted')) #gives precision \n",
        "print(\"F1 score: \",f1_score(expertise_level,predicted_skill, average='weighted')) #gives F1 score\n",
        "print(\"Recall score: \",recall_score(expertise_level,predicted_skill,average=\"weighted\")) #gives Recall score"
      ],
      "metadata": {
        "colab": {
          "base_uri": "https://localhost:8080/"
        },
        "id": "r5T_g_DmJ4dg",
        "outputId": "a7fb4edf-3fad-4de9-c84d-31fb24db0c54"
      },
      "execution_count": null,
      "outputs": [
        {
          "output_type": "stream",
          "name": "stdout",
          "text": [
            "Accuracy:  0.9722222222222222\n",
            "Precision:  0.9747474747474748\n",
            "F1 score:  0.9724355692097628\n",
            "Recall score:  0.9722222222222222\n"
          ]
        }
      ]
    },
    {
      "cell_type": "code",
      "source": [
        "n_classes=3\n",
        "fpr=dict()\n",
        "tpr=dict()\n",
        "roc_auc=dict()\n",
        "for i in range(3):\n",
        "    fpr[i], tpr[i], _ = roc_curve(encoded[:, i], p[:, i])\n",
        "    roc_auc[i] = auc(fpr[i], tpr[i])"
      ],
      "metadata": {
        "id": "5YsszUxpXfGG"
      },
      "execution_count": null,
      "outputs": []
    },
    {
      "cell_type": "code",
      "source": [
        "%matplotlib inline\n",
        "fpr[\"micro\"], tpr[\"micro\"], _ = roc_curve(encoded.ravel(), p.ravel())\n",
        "roc_auc[\"micro\"] = auc(fpr[\"micro\"], tpr[\"micro\"])\n",
        "lw=2\n",
        "#Aggregating all false positive rates\n",
        "all_fpr = np.unique(np.concatenate([fpr[i] for i in range(n_classes)]))\n",
        "\n",
        "#Interpolating all ROC curves at this points\n",
        "mean_tpr = np.zeros_like(all_fpr)\n",
        "for i in range(n_classes):\n",
        "    mean_tpr += np.interp(all_fpr, fpr[i], tpr[i])\n",
        "\n",
        "# Finally averaging it and computing AUC \n",
        "mean_tpr /= n_classes\n",
        "\n",
        "fpr[\"macro\"] = all_fpr\n",
        "tpr[\"macro\"] = mean_tpr\n",
        "roc_auc[\"macro\"] = auc(fpr[\"macro\"], tpr[\"macro\"])\n",
        "\n",
        "# Ploting all ROC curves\n",
        "plt.figure()\n",
        "plt.plot(\n",
        "    fpr[\"micro\"],\n",
        "    tpr[\"micro\"],\n",
        "    label=\"micro-average ROC curve (area = {0:0.2f})\".format(roc_auc[\"micro\"]),\n",
        "    color=\"deeppink\",\n",
        "    linestyle=\":\",\n",
        "    linewidth=4,\n",
        ")\n",
        "\n",
        "plt.plot(\n",
        "    fpr[\"macro\"],\n",
        "    tpr[\"macro\"],\n",
        "    label=\"macro-average ROC curve (area = {0:0.2f})\".format(roc_auc[\"macro\"]),\n",
        "    color=\"navy\",\n",
        "    linestyle=\":\",\n",
        "    linewidth=4,\n",
        ")\n",
        "\n",
        "colors = cycle([\"aqua\", \"darkorange\", \"cornflowerblue\"])\n",
        "for i, color in zip(range(n_classes), colors):\n",
        "    plt.plot(\n",
        "        fpr[i],\n",
        "        tpr[i],\n",
        "        color=color,\n",
        "        lw=lw,\n",
        "        label=\"ROC curve of class {0} (area = {1:0.2f})\".format(i, roc_auc[i]),\n",
        "    )\n",
        "\n",
        "plt.plot([0, 1], [0, 1], \"k--\", lw=lw)\n",
        "plt.xlim([0.0, 1.0])\n",
        "plt.ylim([0.0, 1.05])\n",
        "plt.xlabel(\"False Positive Rate\")\n",
        "plt.ylabel(\"True Positive Rate\")\n",
        "plt.title(\"Receiver operating characteristic\")\n",
        "plt.legend(loc=\"lower right\")\n",
        "plt.figure(figsize=(14,18))\n",
        "plt.show()"
      ],
      "metadata": {
        "colab": {
          "base_uri": "https://localhost:8080/",
          "height": 312
        },
        "id": "PtuJ_P7blRj-",
        "outputId": "804fe6c4-cb11-4144-eccf-eb0ed0f2a040"
      },
      "execution_count": null,
      "outputs": [
        {
          "output_type": "display_data",
          "data": {
            "text/plain": [
              "<Figure size 432x288 with 1 Axes>"
            ],
            "image/png": "[encoded data removed]"
          },
          "metadata": {
            "needs_background": "light"
          }
        },
        {
          "output_type": "display_data",
          "data": {
            "text/plain": [
              "<Figure size 1008x1296 with 0 Axes>"
            ]
          },
          "metadata": {}
        }
      ]
    },
    {
      "cell_type": "code",
      "source": [
        "%matplotlib inline\n",
        "#plotting confusion matrix\n",
        "cm=tf.math.confusion_matrix(integral_level,predicted_index,3) \n",
        "plt.figure(figsize=(10,7)) \n",
        "hm=sn.heatmap(cm,annot=True,fmt='d',cmap=\"rainbow\",linewidths=1) #using heatmap for better visualization\n",
        "plt.xlabel('Predicted skill level')\n",
        "plt.ylabel('True skill level')\n",
        "plt.title(\"Confusion Matrix\")\n",
        "plt.show()"
      ],
      "metadata": {
        "colab": {
          "base_uri": "https://localhost:8080/",
          "height": 458
        },
        "id": "HnBcrH_oRCTP",
        "outputId": "e5850e1b-7965-4dc7-b27c-bae92333380a"
      },
      "execution_count": null,
      "outputs": [
        {
          "output_type": "display_data",
          "data": {
            "text/plain": [
              "<Figure size 720x504 with 2 Axes>"
            ],
            "image/png": "[encoded data removed]"
          },
          "metadata": {
            "needs_background": "light"
          }
        }
      ]
    }
  ]
}